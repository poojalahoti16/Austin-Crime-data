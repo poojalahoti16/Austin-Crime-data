{
 "cells": [
  {
   "cell_type": "code",
   "execution_count": 2,
   "metadata": {},
   "outputs": [],
   "source": [
    "import pandas as pd\n",
    "import seaborn as sns\n",
    "import matplotlib.pyplot as plt\n",
    "import datetime as dt\n",
    "import gc\n",
    "import numpy as np\n",
    "%matplotlib inline\n",
    "plt.style.use('seaborn')\n",
    "import folium"
   ]
  },
  {
   "cell_type": "code",
   "execution_count": 3,
   "metadata": {},
   "outputs": [],
   "source": [
    "try:del crime # Being nice to memory space\n",
    "except:pass;gc.collect()"
   ]
  },
  {
   "cell_type": "code",
   "execution_count": 4,
   "metadata": {},
   "outputs": [],
   "source": [
    "crime = pd.read_csv(\"./crime_cleaned.csv\")"
   ]
  },
  {
   "cell_type": "code",
   "execution_count": 5,
   "metadata": {},
   "outputs": [
    {
     "data": {
      "text/html": [
       "<div>\n",
       "<style scoped>\n",
       "    .dataframe tbody tr th:only-of-type {\n",
       "        vertical-align: middle;\n",
       "    }\n",
       "\n",
       "    .dataframe tbody tr th {\n",
       "        vertical-align: top;\n",
       "    }\n",
       "\n",
       "    .dataframe thead th {\n",
       "        text-align: right;\n",
       "    }\n",
       "</style>\n",
       "<table border=\"1\" class=\"dataframe\">\n",
       "  <thead>\n",
       "    <tr style=\"text-align: right;\">\n",
       "      <th></th>\n",
       "      <th>Unnamed: 0</th>\n",
       "      <th>Highest Offense Description</th>\n",
       "      <th>Highest Offense Code</th>\n",
       "      <th>Family Violence</th>\n",
       "      <th>Occurred Date Time</th>\n",
       "      <th>Report Date Time</th>\n",
       "      <th>Location Type</th>\n",
       "      <th>Address</th>\n",
       "      <th>Zip Code</th>\n",
       "      <th>Council District</th>\n",
       "      <th>APD Sector</th>\n",
       "      <th>Clearance Status</th>\n",
       "      <th>X-coordinate</th>\n",
       "      <th>Y-coordinate</th>\n",
       "      <th>Latitude</th>\n",
       "      <th>Longitude</th>\n",
       "    </tr>\n",
       "  </thead>\n",
       "  <tbody>\n",
       "    <tr>\n",
       "      <th>0</th>\n",
       "      <td>0</td>\n",
       "      <td>DISTURBANCE - OTHER</td>\n",
       "      <td>3401</td>\n",
       "      <td>N</td>\n",
       "      <td>2019-09-21 21:13:00</td>\n",
       "      <td>2019-09-21 21:13:00</td>\n",
       "      <td>RESIDENCE / HOME</td>\n",
       "      <td>2205 WIRTZ AVE</td>\n",
       "      <td>78704</td>\n",
       "      <td>9</td>\n",
       "      <td>DA</td>\n",
       "      <td>O</td>\n",
       "      <td>3107244.0</td>\n",
       "      <td>3107244.0</td>\n",
       "      <td>30.246032</td>\n",
       "      <td>-97.765791</td>\n",
       "    </tr>\n",
       "    <tr>\n",
       "      <th>1</th>\n",
       "      <td>1</td>\n",
       "      <td>HARASSMENT</td>\n",
       "      <td>2703</td>\n",
       "      <td>N</td>\n",
       "      <td>2019-09-21 19:39:00</td>\n",
       "      <td>2019-09-21 19:39:00</td>\n",
       "      <td>RESIDENCE / HOME</td>\n",
       "      <td>9809 HANSFORD DR</td>\n",
       "      <td>78753</td>\n",
       "      <td>4</td>\n",
       "      <td>ED</td>\n",
       "      <td>U</td>\n",
       "      <td>3133312.0</td>\n",
       "      <td>3133312.0</td>\n",
       "      <td>30.360981</td>\n",
       "      <td>-97.680054</td>\n",
       "    </tr>\n",
       "    <tr>\n",
       "      <th>2</th>\n",
       "      <td>2</td>\n",
       "      <td>FAMILY DISTURBANCE</td>\n",
       "      <td>3400</td>\n",
       "      <td>N</td>\n",
       "      <td>2019-09-21 19:13:00</td>\n",
       "      <td>2019-09-21 19:13:00</td>\n",
       "      <td>RESIDENCE / HOME</td>\n",
       "      <td>2717 S LAMAR BLVD</td>\n",
       "      <td>78704</td>\n",
       "      <td>5</td>\n",
       "      <td>DA</td>\n",
       "      <td>U</td>\n",
       "      <td>3102594.0</td>\n",
       "      <td>3102594.0</td>\n",
       "      <td>30.243394</td>\n",
       "      <td>-97.780591</td>\n",
       "    </tr>\n",
       "    <tr>\n",
       "      <th>3</th>\n",
       "      <td>3</td>\n",
       "      <td>HARASSMENT</td>\n",
       "      <td>2703</td>\n",
       "      <td>N</td>\n",
       "      <td>2019-09-21 18:57:00</td>\n",
       "      <td>2019-09-21 20:17:00</td>\n",
       "      <td>RESIDENCE / HOME</td>\n",
       "      <td>5921 RED BUD RIDGE LN</td>\n",
       "      <td>78744</td>\n",
       "      <td>2</td>\n",
       "      <td>FR</td>\n",
       "      <td>U</td>\n",
       "      <td>3116190.0</td>\n",
       "      <td>3116190.0</td>\n",
       "      <td>30.189894</td>\n",
       "      <td>-97.738960</td>\n",
       "    </tr>\n",
       "    <tr>\n",
       "      <th>4</th>\n",
       "      <td>4</td>\n",
       "      <td>DISTURBANCE - OTHER</td>\n",
       "      <td>3401</td>\n",
       "      <td>N</td>\n",
       "      <td>2019-09-21 18:00:00</td>\n",
       "      <td>2019-09-21 18:20:00</td>\n",
       "      <td>UNKNOWN</td>\n",
       "      <td>500 NECHES ST</td>\n",
       "      <td>78701</td>\n",
       "      <td>9</td>\n",
       "      <td>GE</td>\n",
       "      <td>U</td>\n",
       "      <td>3115647.0</td>\n",
       "      <td>3115647.0</td>\n",
       "      <td>30.265956</td>\n",
       "      <td>-97.738637</td>\n",
       "    </tr>\n",
       "  </tbody>\n",
       "</table>\n",
       "</div>"
      ],
      "text/plain": [
       "   Unnamed: 0 Highest Offense Description  Highest Offense Code  \\\n",
       "0           0         DISTURBANCE - OTHER                  3401   \n",
       "1           1                  HARASSMENT                  2703   \n",
       "2           2          FAMILY DISTURBANCE                  3400   \n",
       "3           3                  HARASSMENT                  2703   \n",
       "4           4         DISTURBANCE - OTHER                  3401   \n",
       "\n",
       "  Family Violence   Occurred Date Time     Report Date Time     Location Type  \\\n",
       "0               N  2019-09-21 21:13:00  2019-09-21 21:13:00  RESIDENCE / HOME   \n",
       "1               N  2019-09-21 19:39:00  2019-09-21 19:39:00  RESIDENCE / HOME   \n",
       "2               N  2019-09-21 19:13:00  2019-09-21 19:13:00  RESIDENCE / HOME   \n",
       "3               N  2019-09-21 18:57:00  2019-09-21 20:17:00  RESIDENCE / HOME   \n",
       "4               N  2019-09-21 18:00:00  2019-09-21 18:20:00           UNKNOWN   \n",
       "\n",
       "                 Address  Zip Code  Council District APD Sector  \\\n",
       "0         2205 WIRTZ AVE     78704                 9         DA   \n",
       "1       9809 HANSFORD DR     78753                 4         ED   \n",
       "2      2717 S LAMAR BLVD     78704                 5         DA   \n",
       "3  5921 RED BUD RIDGE LN     78744                 2         FR   \n",
       "4          500 NECHES ST     78701                 9         GE   \n",
       "\n",
       "  Clearance Status  X-coordinate  Y-coordinate   Latitude  Longitude  \n",
       "0                O     3107244.0     3107244.0  30.246032 -97.765791  \n",
       "1                U     3133312.0     3133312.0  30.360981 -97.680054  \n",
       "2                U     3102594.0     3102594.0  30.243394 -97.780591  \n",
       "3                U     3116190.0     3116190.0  30.189894 -97.738960  \n",
       "4                U     3115647.0     3115647.0  30.265956 -97.738637  "
      ]
     },
     "execution_count": 5,
     "metadata": {},
     "output_type": "execute_result"
    }
   ],
   "source": [
    "crime.head()"
   ]
  },
  {
   "cell_type": "code",
   "execution_count": 6,
   "metadata": {},
   "outputs": [
    {
     "data": {
      "text/html": [
       "<div>\n",
       "<style scoped>\n",
       "    .dataframe tbody tr th:only-of-type {\n",
       "        vertical-align: middle;\n",
       "    }\n",
       "\n",
       "    .dataframe tbody tr th {\n",
       "        vertical-align: top;\n",
       "    }\n",
       "\n",
       "    .dataframe thead th {\n",
       "        text-align: right;\n",
       "    }\n",
       "</style>\n",
       "<table border=\"1\" class=\"dataframe\">\n",
       "  <thead>\n",
       "    <tr style=\"text-align: right;\">\n",
       "      <th></th>\n",
       "      <th>Unnamed: 0</th>\n",
       "      <th>Highest Offense Code</th>\n",
       "      <th>Zip Code</th>\n",
       "      <th>Council District</th>\n",
       "      <th>X-coordinate</th>\n",
       "      <th>Y-coordinate</th>\n",
       "      <th>Latitude</th>\n",
       "      <th>Longitude</th>\n",
       "    </tr>\n",
       "  </thead>\n",
       "  <tbody>\n",
       "    <tr>\n",
       "      <th>count</th>\n",
       "      <td>108362.000000</td>\n",
       "      <td>108362.000000</td>\n",
       "      <td>108362.000000</td>\n",
       "      <td>108362.000000</td>\n",
       "      <td>1.075430e+05</td>\n",
       "      <td>1.075430e+05</td>\n",
       "      <td>106116.000000</td>\n",
       "      <td>106116.000000</td>\n",
       "    </tr>\n",
       "    <tr>\n",
       "      <th>mean</th>\n",
       "      <td>54180.500000</td>\n",
       "      <td>1649.436491</td>\n",
       "      <td>77940.548606</td>\n",
       "      <td>5.004974</td>\n",
       "      <td>3.077519e+06</td>\n",
       "      <td>3.077519e+06</td>\n",
       "      <td>30.293406</td>\n",
       "      <td>-97.729298</td>\n",
       "    </tr>\n",
       "    <tr>\n",
       "      <th>std</th>\n",
       "      <td>31281.559272</td>\n",
       "      <td>1170.796260</td>\n",
       "      <td>7856.656452</td>\n",
       "      <td>2.858794</td>\n",
       "      <td>4.534777e+05</td>\n",
       "      <td>4.534777e+05</td>\n",
       "      <td>0.241132</td>\n",
       "      <td>0.736478</td>\n",
       "    </tr>\n",
       "    <tr>\n",
       "      <th>min</th>\n",
       "      <td>0.000000</td>\n",
       "      <td>100.000000</td>\n",
       "      <td>0.000000</td>\n",
       "      <td>0.000000</td>\n",
       "      <td>0.000000e+00</td>\n",
       "      <td>0.000000e+00</td>\n",
       "      <td>0.000120</td>\n",
       "      <td>-97.995789</td>\n",
       "    </tr>\n",
       "    <tr>\n",
       "      <th>25%</th>\n",
       "      <td>27090.250000</td>\n",
       "      <td>601.000000</td>\n",
       "      <td>78717.000000</td>\n",
       "      <td>3.000000</td>\n",
       "      <td>3.107725e+06</td>\n",
       "      <td>3.107725e+06</td>\n",
       "      <td>30.232820</td>\n",
       "      <td>-97.762272</td>\n",
       "    </tr>\n",
       "    <tr>\n",
       "      <th>50%</th>\n",
       "      <td>54180.500000</td>\n",
       "      <td>1108.000000</td>\n",
       "      <td>78741.000000</td>\n",
       "      <td>4.000000</td>\n",
       "      <td>3.116891e+06</td>\n",
       "      <td>3.116891e+06</td>\n",
       "      <td>30.280295</td>\n",
       "      <td>-97.733497</td>\n",
       "    </tr>\n",
       "    <tr>\n",
       "      <th>75%</th>\n",
       "      <td>81270.750000</td>\n",
       "      <td>2704.000000</td>\n",
       "      <td>78752.000000</td>\n",
       "      <td>7.000000</td>\n",
       "      <td>3.126671e+06</td>\n",
       "      <td>3.126671e+06</td>\n",
       "      <td>30.357409</td>\n",
       "      <td>-97.702053</td>\n",
       "    </tr>\n",
       "    <tr>\n",
       "      <th>max</th>\n",
       "      <td>108361.000000</td>\n",
       "      <td>8503.000000</td>\n",
       "      <td>78759.000000</td>\n",
       "      <td>10.000000</td>\n",
       "      <td>3.889524e+07</td>\n",
       "      <td>3.889524e+07</td>\n",
       "      <td>30.558996</td>\n",
       "      <td>-0.000134</td>\n",
       "    </tr>\n",
       "  </tbody>\n",
       "</table>\n",
       "</div>"
      ],
      "text/plain": [
       "          Unnamed: 0  Highest Offense Code       Zip Code  Council District  \\\n",
       "count  108362.000000         108362.000000  108362.000000     108362.000000   \n",
       "mean    54180.500000           1649.436491   77940.548606          5.004974   \n",
       "std     31281.559272           1170.796260    7856.656452          2.858794   \n",
       "min         0.000000            100.000000       0.000000          0.000000   \n",
       "25%     27090.250000            601.000000   78717.000000          3.000000   \n",
       "50%     54180.500000           1108.000000   78741.000000          4.000000   \n",
       "75%     81270.750000           2704.000000   78752.000000          7.000000   \n",
       "max    108361.000000           8503.000000   78759.000000         10.000000   \n",
       "\n",
       "       X-coordinate  Y-coordinate       Latitude      Longitude  \n",
       "count  1.075430e+05  1.075430e+05  106116.000000  106116.000000  \n",
       "mean   3.077519e+06  3.077519e+06      30.293406     -97.729298  \n",
       "std    4.534777e+05  4.534777e+05       0.241132       0.736478  \n",
       "min    0.000000e+00  0.000000e+00       0.000120     -97.995789  \n",
       "25%    3.107725e+06  3.107725e+06      30.232820     -97.762272  \n",
       "50%    3.116891e+06  3.116891e+06      30.280295     -97.733497  \n",
       "75%    3.126671e+06  3.126671e+06      30.357409     -97.702053  \n",
       "max    3.889524e+07  3.889524e+07      30.558996      -0.000134  "
      ]
     },
     "execution_count": 6,
     "metadata": {},
     "output_type": "execute_result"
    }
   ],
   "source": [
    "crime.describe()"
   ]
  },
  {
   "cell_type": "code",
   "execution_count": 7,
   "metadata": {},
   "outputs": [
    {
     "name": "stdout",
     "output_type": "stream",
     "text": [
      "<class 'pandas.core.frame.DataFrame'>\n",
      "RangeIndex: 108362 entries, 0 to 108361\n",
      "Data columns (total 16 columns):\n",
      "Unnamed: 0                     108362 non-null int64\n",
      "Highest Offense Description    108362 non-null object\n",
      "Highest Offense Code           108362 non-null int64\n",
      "Family Violence                108362 non-null object\n",
      "Occurred Date Time             108362 non-null object\n",
      "Report Date Time               108362 non-null object\n",
      "Location Type                  108362 non-null object\n",
      "Address                        108362 non-null object\n",
      "Zip Code                       108362 non-null int64\n",
      "Council District               108362 non-null int64\n",
      "APD Sector                     108362 non-null object\n",
      "Clearance Status               108362 non-null object\n",
      "X-coordinate                   107543 non-null float64\n",
      "Y-coordinate                   107543 non-null float64\n",
      "Latitude                       106116 non-null float64\n",
      "Longitude                      106116 non-null float64\n",
      "dtypes: float64(4), int64(4), object(8)\n",
      "memory usage: 13.2+ MB\n"
     ]
    }
   ],
   "source": [
    "crime.info()"
   ]
  },
  {
   "cell_type": "code",
   "execution_count": 8,
   "metadata": {},
   "outputs": [],
   "source": [
    "crime.drop([\"Unnamed: 0\"],axis=1,inplace=True)"
   ]
  },
  {
   "cell_type": "code",
   "execution_count": 9,
   "metadata": {},
   "outputs": [],
   "source": [
    "crime[\"Occurred Date Time\"] = pd.to_datetime(crime[\"Occurred Date Time\"])\n",
    "crime[\"Report Date Time\"] = pd.to_datetime(crime[\"Report Date Time\"])"
   ]
  },
  {
   "cell_type": "code",
   "execution_count": 10,
   "metadata": {},
   "outputs": [
    {
     "data": {
      "text/plain": [
       "RESIDENCE / HOME                42186\n",
       "STREETS / HWY / ROAD / ALLEY    20285\n",
       "PARKING LOTS / GARAGE           13597\n",
       "OTHER / UNKNOWN                  6783\n",
       "COMMERCIAL / OFFICE BUILDING     2938\n",
       "DEPARTMENT / DISCOUNT STORE      2747\n",
       "HOTEL / MOTEL / ETC.             2446\n",
       "RESTAURANTS                      2362\n",
       "GROCERY / SUPERMARKET            1931\n",
       "CONVENIENCE STORE                1530\n",
       "Name: Location Type, dtype: int64"
      ]
     },
     "execution_count": 10,
     "metadata": {},
     "output_type": "execute_result"
    }
   ],
   "source": [
    "crime[\"Location Type\"].value_counts().head(10)"
   ]
  },
  {
   "cell_type": "code",
   "execution_count": 11,
   "metadata": {},
   "outputs": [],
   "source": [
    "crime[\"Clearance Status\"] = crime[\"Clearance Status\"].astype(\"category\")"
   ]
  },
  {
   "cell_type": "code",
   "execution_count": 12,
   "metadata": {},
   "outputs": [],
   "source": [
    "crime[\"Highest Offense Description\"] = crime[\"Highest Offense Description\"].astype(\"category\")"
   ]
  },
  {
   "cell_type": "code",
   "execution_count": 13,
   "metadata": {},
   "outputs": [],
   "source": [
    "crime[\"Family Violence\"] = crime[\"Family Violence\"].astype(\"category\")"
   ]
  },
  {
   "cell_type": "code",
   "execution_count": 14,
   "metadata": {},
   "outputs": [],
   "source": [
    "crime[\"crime_day\"] = crime[\"Occurred Date Time\"].dt.day_name()"
   ]
  },
  {
   "cell_type": "code",
   "execution_count": 16,
   "metadata": {},
   "outputs": [
    {
     "ename": "KeyboardInterrupt",
     "evalue": "",
     "output_type": "error",
     "traceback": [
      "\u001b[1;31m---------------------------------------------------------------------------\u001b[0m",
      "\u001b[1;31mKeyboardInterrupt\u001b[0m                         Traceback (most recent call last)",
      "\u001b[1;32m<ipython-input-16-e6944996a2a8>\u001b[0m in \u001b[0;36m<module>\u001b[1;34m\u001b[0m\n\u001b[1;32m----> 1\u001b[1;33m \u001b[0msns\u001b[0m\u001b[1;33m.\u001b[0m\u001b[0mcatplot\u001b[0m\u001b[1;33m(\u001b[0m\u001b[0mx\u001b[0m\u001b[1;33m=\u001b[0m\u001b[1;34m\"crime_day\"\u001b[0m\u001b[1;33m,\u001b[0m \u001b[0my\u001b[0m\u001b[1;33m=\u001b[0m\u001b[1;34m\"Highest Offense Description\"\u001b[0m\u001b[1;33m,\u001b[0m \u001b[0mhue\u001b[0m\u001b[1;33m=\u001b[0m\u001b[1;34m\"Family Violence\"\u001b[0m\u001b[1;33m,\u001b[0m \u001b[0mkind\u001b[0m\u001b[1;33m=\u001b[0m\u001b[1;34m\"swarm\"\u001b[0m\u001b[1;33m,\u001b[0m \u001b[0mdata\u001b[0m\u001b[1;33m=\u001b[0m\u001b[0mcrime\u001b[0m\u001b[1;33m)\u001b[0m\u001b[1;33m\u001b[0m\u001b[1;33m\u001b[0m\u001b[0m\n\u001b[0m",
      "\u001b[1;32m~\\AppData\\Local\\Continuum\\anaconda3\\lib\\site-packages\\seaborn\\categorical.py\u001b[0m in \u001b[0;36mcatplot\u001b[1;34m(x, y, hue, data, row, col, col_wrap, estimator, ci, n_boot, units, order, hue_order, row_order, col_order, kind, height, aspect, orient, color, palette, legend, legend_out, sharex, sharey, margin_titles, facet_kws, **kwargs)\u001b[0m\n\u001b[0;32m   3753\u001b[0m \u001b[1;33m\u001b[0m\u001b[0m\n\u001b[0;32m   3754\u001b[0m     \u001b[1;31m# Draw the plot onto the facets\u001b[0m\u001b[1;33m\u001b[0m\u001b[1;33m\u001b[0m\u001b[1;33m\u001b[0m\u001b[0m\n\u001b[1;32m-> 3755\u001b[1;33m     \u001b[0mg\u001b[0m\u001b[1;33m.\u001b[0m\u001b[0mmap_dataframe\u001b[0m\u001b[1;33m(\u001b[0m\u001b[0mplot_func\u001b[0m\u001b[1;33m,\u001b[0m \u001b[0mx\u001b[0m\u001b[1;33m,\u001b[0m \u001b[0my\u001b[0m\u001b[1;33m,\u001b[0m \u001b[0mhue\u001b[0m\u001b[1;33m,\u001b[0m \u001b[1;33m**\u001b[0m\u001b[0mplot_kws\u001b[0m\u001b[1;33m)\u001b[0m\u001b[1;33m\u001b[0m\u001b[1;33m\u001b[0m\u001b[0m\n\u001b[0m\u001b[0;32m   3756\u001b[0m \u001b[1;33m\u001b[0m\u001b[0m\n\u001b[0;32m   3757\u001b[0m     \u001b[1;31m# Special case axis labels for a count type plot\u001b[0m\u001b[1;33m\u001b[0m\u001b[1;33m\u001b[0m\u001b[1;33m\u001b[0m\u001b[0m\n",
      "\u001b[1;32m~\\AppData\\Local\\Continuum\\anaconda3\\lib\\site-packages\\seaborn\\axisgrid.py\u001b[0m in \u001b[0;36mmap_dataframe\u001b[1;34m(self, func, *args, **kwargs)\u001b[0m\n\u001b[0;32m    818\u001b[0m \u001b[1;33m\u001b[0m\u001b[0m\n\u001b[0;32m    819\u001b[0m             \u001b[1;31m# Draw the plot\u001b[0m\u001b[1;33m\u001b[0m\u001b[1;33m\u001b[0m\u001b[1;33m\u001b[0m\u001b[0m\n\u001b[1;32m--> 820\u001b[1;33m             \u001b[0mself\u001b[0m\u001b[1;33m.\u001b[0m\u001b[0m_facet_plot\u001b[0m\u001b[1;33m(\u001b[0m\u001b[0mfunc\u001b[0m\u001b[1;33m,\u001b[0m \u001b[0max\u001b[0m\u001b[1;33m,\u001b[0m \u001b[0margs\u001b[0m\u001b[1;33m,\u001b[0m \u001b[0mkwargs\u001b[0m\u001b[1;33m)\u001b[0m\u001b[1;33m\u001b[0m\u001b[1;33m\u001b[0m\u001b[0m\n\u001b[0m\u001b[0;32m    821\u001b[0m \u001b[1;33m\u001b[0m\u001b[0m\n\u001b[0;32m    822\u001b[0m         \u001b[1;31m# Finalize the annotations and layout\u001b[0m\u001b[1;33m\u001b[0m\u001b[1;33m\u001b[0m\u001b[1;33m\u001b[0m\u001b[0m\n",
      "\u001b[1;32m~\\AppData\\Local\\Continuum\\anaconda3\\lib\\site-packages\\seaborn\\axisgrid.py\u001b[0m in \u001b[0;36m_facet_plot\u001b[1;34m(self, func, ax, plot_args, plot_kwargs)\u001b[0m\n\u001b[0;32m    836\u001b[0m \u001b[1;33m\u001b[0m\u001b[0m\n\u001b[0;32m    837\u001b[0m         \u001b[1;31m# Draw the plot\u001b[0m\u001b[1;33m\u001b[0m\u001b[1;33m\u001b[0m\u001b[1;33m\u001b[0m\u001b[0m\n\u001b[1;32m--> 838\u001b[1;33m         \u001b[0mfunc\u001b[0m\u001b[1;33m(\u001b[0m\u001b[1;33m*\u001b[0m\u001b[0mplot_args\u001b[0m\u001b[1;33m,\u001b[0m \u001b[1;33m**\u001b[0m\u001b[0mplot_kwargs\u001b[0m\u001b[1;33m)\u001b[0m\u001b[1;33m\u001b[0m\u001b[1;33m\u001b[0m\u001b[0m\n\u001b[0m\u001b[0;32m    839\u001b[0m \u001b[1;33m\u001b[0m\u001b[0m\n\u001b[0;32m    840\u001b[0m         \u001b[1;31m# Sort out the supporting information\u001b[0m\u001b[1;33m\u001b[0m\u001b[1;33m\u001b[0m\u001b[1;33m\u001b[0m\u001b[0m\n",
      "\u001b[1;32m~\\AppData\\Local\\Continuum\\anaconda3\\lib\\site-packages\\seaborn\\categorical.py\u001b[0m in \u001b[0;36mswarmplot\u001b[1;34m(x, y, hue, data, order, hue_order, dodge, orient, color, palette, size, edgecolor, linewidth, ax, **kwargs)\u001b[0m\n\u001b[0;32m   2989\u001b[0m                        linewidth=linewidth))\n\u001b[0;32m   2990\u001b[0m \u001b[1;33m\u001b[0m\u001b[0m\n\u001b[1;32m-> 2991\u001b[1;33m     \u001b[0mplotter\u001b[0m\u001b[1;33m.\u001b[0m\u001b[0mplot\u001b[0m\u001b[1;33m(\u001b[0m\u001b[0max\u001b[0m\u001b[1;33m,\u001b[0m \u001b[0mkwargs\u001b[0m\u001b[1;33m)\u001b[0m\u001b[1;33m\u001b[0m\u001b[1;33m\u001b[0m\u001b[0m\n\u001b[0m\u001b[0;32m   2992\u001b[0m     \u001b[1;32mreturn\u001b[0m \u001b[0max\u001b[0m\u001b[1;33m\u001b[0m\u001b[1;33m\u001b[0m\u001b[0m\n\u001b[0;32m   2993\u001b[0m \u001b[1;33m\u001b[0m\u001b[0m\n",
      "\u001b[1;32m~\\AppData\\Local\\Continuum\\anaconda3\\lib\\site-packages\\seaborn\\categorical.py\u001b[0m in \u001b[0;36mplot\u001b[1;34m(self, ax, kws)\u001b[0m\n\u001b[0;32m   1444\u001b[0m     \u001b[1;32mdef\u001b[0m \u001b[0mplot\u001b[0m\u001b[1;33m(\u001b[0m\u001b[0mself\u001b[0m\u001b[1;33m,\u001b[0m \u001b[0max\u001b[0m\u001b[1;33m,\u001b[0m \u001b[0mkws\u001b[0m\u001b[1;33m)\u001b[0m\u001b[1;33m:\u001b[0m\u001b[1;33m\u001b[0m\u001b[1;33m\u001b[0m\u001b[0m\n\u001b[0;32m   1445\u001b[0m         \u001b[1;34m\"\"\"Make the full plot.\"\"\"\u001b[0m\u001b[1;33m\u001b[0m\u001b[1;33m\u001b[0m\u001b[0m\n\u001b[1;32m-> 1446\u001b[1;33m         \u001b[0mself\u001b[0m\u001b[1;33m.\u001b[0m\u001b[0mdraw_swarmplot\u001b[0m\u001b[1;33m(\u001b[0m\u001b[0max\u001b[0m\u001b[1;33m,\u001b[0m \u001b[0mkws\u001b[0m\u001b[1;33m)\u001b[0m\u001b[1;33m\u001b[0m\u001b[1;33m\u001b[0m\u001b[0m\n\u001b[0m\u001b[0;32m   1447\u001b[0m         \u001b[0mself\u001b[0m\u001b[1;33m.\u001b[0m\u001b[0madd_legend_data\u001b[0m\u001b[1;33m(\u001b[0m\u001b[0max\u001b[0m\u001b[1;33m)\u001b[0m\u001b[1;33m\u001b[0m\u001b[1;33m\u001b[0m\u001b[0m\n\u001b[0;32m   1448\u001b[0m         \u001b[0mself\u001b[0m\u001b[1;33m.\u001b[0m\u001b[0mannotate_axes\u001b[0m\u001b[1;33m(\u001b[0m\u001b[0max\u001b[0m\u001b[1;33m)\u001b[0m\u001b[1;33m\u001b[0m\u001b[1;33m\u001b[0m\u001b[0m\n",
      "\u001b[1;32m~\\AppData\\Local\\Continuum\\anaconda3\\lib\\site-packages\\seaborn\\categorical.py\u001b[0m in \u001b[0;36mdraw_swarmplot\u001b[1;34m(self, ax, kws)\u001b[0m\n\u001b[0;32m   1440\u001b[0m         \u001b[1;32mfor\u001b[0m \u001b[0mcenter\u001b[0m\u001b[1;33m,\u001b[0m \u001b[0mswarm\u001b[0m \u001b[1;32min\u001b[0m \u001b[0mzip\u001b[0m\u001b[1;33m(\u001b[0m\u001b[0mcenters\u001b[0m\u001b[1;33m,\u001b[0m \u001b[0mswarms\u001b[0m\u001b[1;33m)\u001b[0m\u001b[1;33m:\u001b[0m\u001b[1;33m\u001b[0m\u001b[1;33m\u001b[0m\u001b[0m\n\u001b[0;32m   1441\u001b[0m             \u001b[1;32mif\u001b[0m \u001b[0mswarm\u001b[0m\u001b[1;33m.\u001b[0m\u001b[0mget_offsets\u001b[0m\u001b[1;33m(\u001b[0m\u001b[1;33m)\u001b[0m\u001b[1;33m.\u001b[0m\u001b[0msize\u001b[0m\u001b[1;33m:\u001b[0m\u001b[1;33m\u001b[0m\u001b[1;33m\u001b[0m\u001b[0m\n\u001b[1;32m-> 1442\u001b[1;33m                 \u001b[0mself\u001b[0m\u001b[1;33m.\u001b[0m\u001b[0mswarm_points\u001b[0m\u001b[1;33m(\u001b[0m\u001b[0max\u001b[0m\u001b[1;33m,\u001b[0m \u001b[0mswarm\u001b[0m\u001b[1;33m,\u001b[0m \u001b[0mcenter\u001b[0m\u001b[1;33m,\u001b[0m \u001b[0mwidth\u001b[0m\u001b[1;33m,\u001b[0m \u001b[0ms\u001b[0m\u001b[1;33m,\u001b[0m \u001b[1;33m**\u001b[0m\u001b[0mkws\u001b[0m\u001b[1;33m)\u001b[0m\u001b[1;33m\u001b[0m\u001b[1;33m\u001b[0m\u001b[0m\n\u001b[0m\u001b[0;32m   1443\u001b[0m \u001b[1;33m\u001b[0m\u001b[0m\n\u001b[0;32m   1444\u001b[0m     \u001b[1;32mdef\u001b[0m \u001b[0mplot\u001b[0m\u001b[1;33m(\u001b[0m\u001b[0mself\u001b[0m\u001b[1;33m,\u001b[0m \u001b[0max\u001b[0m\u001b[1;33m,\u001b[0m \u001b[0mkws\u001b[0m\u001b[1;33m)\u001b[0m\u001b[1;33m:\u001b[0m\u001b[1;33m\u001b[0m\u001b[1;33m\u001b[0m\u001b[0m\n",
      "\u001b[1;32m~\\AppData\\Local\\Continuum\\anaconda3\\lib\\site-packages\\seaborn\\categorical.py\u001b[0m in \u001b[0;36mswarm_points\u001b[1;34m(self, ax, points, center, width, s, **kws)\u001b[0m\n\u001b[0;32m   1349\u001b[0m \u001b[1;33m\u001b[0m\u001b[0m\n\u001b[0;32m   1350\u001b[0m         \u001b[1;31m# Do the beeswarm in point coordinates\u001b[0m\u001b[1;33m\u001b[0m\u001b[1;33m\u001b[0m\u001b[1;33m\u001b[0m\u001b[0m\n\u001b[1;32m-> 1351\u001b[1;33m         \u001b[0mnew_xy\u001b[0m \u001b[1;33m=\u001b[0m \u001b[0mself\u001b[0m\u001b[1;33m.\u001b[0m\u001b[0mbeeswarm\u001b[0m\u001b[1;33m(\u001b[0m\u001b[0morig_xy\u001b[0m\u001b[1;33m,\u001b[0m \u001b[0md\u001b[0m\u001b[1;33m)\u001b[0m\u001b[1;33m\u001b[0m\u001b[1;33m\u001b[0m\u001b[0m\n\u001b[0m\u001b[0;32m   1352\u001b[0m \u001b[1;33m\u001b[0m\u001b[0m\n\u001b[0;32m   1353\u001b[0m         \u001b[1;31m# Transform the point coordinates back to data coordinates\u001b[0m\u001b[1;33m\u001b[0m\u001b[1;33m\u001b[0m\u001b[1;33m\u001b[0m\u001b[0m\n",
      "\u001b[1;32m~\\AppData\\Local\\Continuum\\anaconda3\\lib\\site-packages\\seaborn\\categorical.py\u001b[0m in \u001b[0;36mbeeswarm\u001b[1;34m(self, orig_xy, d)\u001b[0m\n\u001b[0;32m   1311\u001b[0m             \u001b[1;31m# Find the first candidate that does not overlap any neighbours\u001b[0m\u001b[1;33m\u001b[0m\u001b[1;33m\u001b[0m\u001b[1;33m\u001b[0m\u001b[0m\n\u001b[0;32m   1312\u001b[0m             new_xy_i = self.first_non_overlapping_candidate(candidates,\n\u001b[1;32m-> 1313\u001b[1;33m                                                             neighbors, d)\n\u001b[0m\u001b[0;32m   1314\u001b[0m \u001b[1;33m\u001b[0m\u001b[0m\n\u001b[0;32m   1315\u001b[0m             \u001b[1;31m# Place it into the swarm\u001b[0m\u001b[1;33m\u001b[0m\u001b[1;33m\u001b[0m\u001b[1;33m\u001b[0m\u001b[0m\n",
      "\u001b[1;32m~\\AppData\\Local\\Continuum\\anaconda3\\lib\\site-packages\\seaborn\\categorical.py\u001b[0m in \u001b[0;36mfirst_non_overlapping_candidate\u001b[1;34m(self, candidates, neighbors, d)\u001b[0m\n\u001b[0;32m   1275\u001b[0m             \u001b[1;31m# and any of the neighbours has to be at least\u001b[0m\u001b[1;33m\u001b[0m\u001b[1;33m\u001b[0m\u001b[1;33m\u001b[0m\u001b[0m\n\u001b[0;32m   1276\u001b[0m             \u001b[1;31m# square of the diameter\u001b[0m\u001b[1;33m\u001b[0m\u001b[1;33m\u001b[0m\u001b[1;33m\u001b[0m\u001b[0m\n\u001b[1;32m-> 1277\u001b[1;33m             \u001b[0mgood_candidate\u001b[0m \u001b[1;33m=\u001b[0m \u001b[0mnp\u001b[0m\u001b[1;33m.\u001b[0m\u001b[0mall\u001b[0m\u001b[1;33m(\u001b[0m\u001b[0msq_distances\u001b[0m \u001b[1;33m>=\u001b[0m \u001b[0md_square\u001b[0m\u001b[1;33m)\u001b[0m\u001b[1;33m\u001b[0m\u001b[1;33m\u001b[0m\u001b[0m\n\u001b[0m\u001b[0;32m   1278\u001b[0m \u001b[1;33m\u001b[0m\u001b[0m\n\u001b[0;32m   1279\u001b[0m             \u001b[1;32mif\u001b[0m \u001b[0mgood_candidate\u001b[0m\u001b[1;33m:\u001b[0m\u001b[1;33m\u001b[0m\u001b[1;33m\u001b[0m\u001b[0m\n",
      "\u001b[1;31mKeyboardInterrupt\u001b[0m: "
     ]
    },
    {
     "data": {
      "image/png": "[encoded data removed]",
      "text/plain": [
       "<Figure size 360x360 with 1 Axes>"
      ]
     },
     "metadata": {
      "needs_background": "light"
     },
     "output_type": "display_data"
    }
   ],
   "source": [
    "sns.catplot(x=\"crime_day\", y=\"Highest Offense Description\", hue=\"Family Violence\", kind=\"swarm\", data=crime)"
   ]
  },
  {
   "cell_type": "code",
   "execution_count": 17,
   "metadata": {},
   "outputs": [
    {
     "data": {
      "text/plain": [
       "<seaborn.axisgrid.FacetGrid at 0x284dd8cef60>"
      ]
     },
     "execution_count": 17,
     "metadata": {},
     "output_type": "execute_result"
    },
    {
     "data": {
      "image/png": "[encoded data removed]",
      "text/plain": [
       "<Figure size 360x360 with 1 Axes>"
      ]
     },
     "metadata": {
      "needs_background": "light"
     },
     "output_type": "display_data"
    }
   ],
   "source": [
    "#most of the crimes are not Family Violence\n",
    "sns.catplot(x=\"Family Violence\", kind=\"count\", palette=\"ch:.25\", data=crime)"
   ]
  },
  {
   "cell_type": "code",
   "execution_count": null,
   "metadata": {},
   "outputs": [],
   "source": [
    "#C=Cleared by Arrest O=Cleared by Exception N=Not cleared u =Unknown\n",
    "# As the plot says, most of the cases are not cleared yet.\n",
    "sns.catplot(x=\"Clearance Status\", kind=\"count\", palette=\"ch:.30\", data=crime)"
   ]
  },
  {
   "cell_type": "code",
   "execution_count": null,
   "metadata": {},
   "outputs": [],
   "source": [
    "\n",
    "# maximum crimes occur in district 9\n",
    "sns.catplot(x=\"Council District\", kind=\"count\", palette=\"ch:.50\", data=crime)"
   ]
  },
  {
   "cell_type": "code",
   "execution_count": 20,
   "metadata": {},
   "outputs": [],
   "source": [
    "crime = crime.set_index(\"Occurred Date Time\")"
   ]
  },
  {
   "cell_type": "code",
   "execution_count": 21,
   "metadata": {},
   "outputs": [
    {
     "data": {
      "image/png": "[encoded data removed]",
      "text/plain": [
       "<Figure size 792x360 with 1 Axes>"
      ]
     },
     "metadata": {
      "needs_background": "light"
     },
     "output_type": "display_data"
    }
   ],
   "source": [
    "plt.figure(figsize=(11,5))\n",
    "crime.resample('M').size().plot(legend=False)\n",
    "plt.title('Number of crimes per month (2018 - 2019)')\n",
    "plt.xlabel('Months')\n",
    "plt.ylabel('Number of crimes')\n",
    "plt.show()"
   ]
  },
  {
   "cell_type": "code",
   "execution_count": null,
   "metadata": {},
   "outputs": [],
   "source": [
    "crime[\"Highest Offense Description\"] = crime[\"Highest Offense Description\"].astype(\"object\")"
   ]
  },
  {
   "cell_type": "code",
   "execution_count": null,
   "metadata": {},
   "outputs": [],
   "source": [
    "loc_to_change  = list(crime['Location Type'].value_counts()[20:].index)\n",
    "desc_to_change = list(crime['Highest Offense Description'].value_counts()[20:].index)\n",
    "#type_to_change = list(crimes['Primary Type'].value_counts()[20:].index)\n",
    "\n",
    "crime.loc[crime['Location Type'].isin(loc_to_change) , crime.columns=='Location Type'] = 'OTHER'\n",
    "crime.loc[crime['Highest Offense Description'].isin(desc_to_change) , crime.columns=='Highest Offense Description'] = 'OTHER'\n",
    "#crimes.loc[crimes['Primary Type'].isin(type_to_change) , crimes.columns=='Primary Type'] = 'OTHER'"
   ]
  },
  {
   "cell_type": "code",
   "execution_count": null,
   "metadata": {},
   "outputs": [],
   "source": [
    "crime[\"Highest Offense Description\"].value_counts()"
   ]
  },
  {
   "cell_type": "code",
   "execution_count": null,
   "metadata": {},
   "outputs": [],
   "source": [
    "crimes_count_date = crime.pivot_table( \"Highest Offense Code\",aggfunc=np.size, columns='Highest Offense Description', index=crime.index.date,fill_value=0)"
   ]
  },
  {
   "cell_type": "code",
   "execution_count": null,
   "metadata": {},
   "outputs": [],
   "source": [
    "crimes_count_date_2019 = crimes_count_date[crimes_count_date.index.year == 2019]"
   ]
  },
  {
   "cell_type": "code",
   "execution_count": null,
   "metadata": {},
   "outputs": [],
   "source": [
    "crimes_count_date.index = pd.DatetimeIndex(crimes_count_date.index)"
   ]
  },
  {
   "cell_type": "code",
   "execution_count": null,
   "metadata": {},
   "outputs": [],
   "source": [
    "# Crimes from Sept 2018 - Sept 2019\n",
    "plo = crimes_count_date.resample('M').sum().plot(figsize=(12, 30), subplots=True, layout=(-1, 3), sharex=False, sharey=False)"
   ]
  },
  {
   "cell_type": "code",
   "execution_count": null,
   "metadata": {},
   "outputs": [],
   "source": [
    "# Analysing crimes by month for 2019\n",
    "plo1 = crimes_count_date_2019.resample('M').sum().plot(figsize=(12, 30), subplots=True, layout=(-1, 3), sharex=False, sharey=False)"
   ]
  },
  {
   "cell_type": "code",
   "execution_count": null,
   "metadata": {},
   "outputs": [],
   "source": [
    "# crimes by day of week\n",
    "\n",
    "crime.groupby([\"crime_day\"]).size().plot(kind=\"barh\")\n",
    "plt.ylabel('Days of the week')\n",
    "plt.xlabel('Number of crimes')\n",
    "plt.title('Number of crimes by day of the week')\n",
    "plt.show()"
   ]
  },
  {
   "cell_type": "code",
   "execution_count": null,
   "metadata": {},
   "outputs": [],
   "source": [
    "crime.groupby([crime.index.month]).size().plot(kind=\"barh\")\n",
    "plt.ylabel('Months')\n",
    "plt.xlabel('Number of crimes')\n",
    "plt.title('Number of crimes by day of the week')\n",
    "plt.show()"
   ]
  },
  {
   "cell_type": "code",
   "execution_count": null,
   "metadata": {},
   "outputs": [],
   "source": [
    "#Crime locations\n",
    "plt.figure(figsize=(8,10))\n",
    "crime.groupby([\"Location Type\"]).size().sort_values(ascending= True).plot(kind=\"barh\")\n",
    "plt.title('Number of crimes by Location')\n",
    "plt.ylabel('Crime Location')\n",
    "plt.xlabel('Number of crimes')\n",
    "plt.show()"
   ]
  },
  {
   "cell_type": "code",
   "execution_count": null,
   "metadata": {},
   "outputs": [],
   "source": [
    "crime.index.names"
   ]
  },
  {
   "cell_type": "code",
   "execution_count": null,
   "metadata": {},
   "outputs": [],
   "source": [
    "crime.info()"
   ]
  },
  {
   "cell_type": "code",
   "execution_count": 23,
   "metadata": {},
   "outputs": [],
   "source": [
    "crime['ID'] = np.arange(len(crime))"
   ]
  },
  {
   "cell_type": "code",
   "execution_count": null,
   "metadata": {},
   "outputs": [],
   "source": [
    "crime.head()"
   ]
  },
  {
   "cell_type": "code",
   "execution_count": null,
   "metadata": {},
   "outputs": [],
   "source": [
    "hour_by_location = crime.pivot_table(values=\"ID\",index=\"Location Type\",columns=crime.index.hour ,aggfunc=np.size).fillna(0)"
   ]
  },
  {
   "cell_type": "code",
   "execution_count": null,
   "metadata": {},
   "outputs": [],
   "source": [
    "hour_by_crimetype = crime.pivot_table(values=\"ID\",index=\"Highest Offense Description\",columns=crime.index.hour ,aggfunc=np.size).fillna(0)"
   ]
  },
  {
   "cell_type": "code",
   "execution_count": 24,
   "metadata": {},
   "outputs": [],
   "source": [
    "hour_by_week = crime.pivot_table(values=\"ID\",index=\"crime_day\",columns=crime.index.hour ,aggfunc=np.size).fillna(0)"
   ]
  },
  {
   "cell_type": "code",
   "execution_count": null,
   "metadata": {},
   "outputs": [],
   "source": [
    "location_by_type = crime.pivot_table(values='ID', index='Location Type', columns='Highest Offense Description', aggfunc=np.size).fillna(0)"
   ]
  },
  {
   "cell_type": "code",
   "execution_count": 25,
   "metadata": {},
   "outputs": [],
   "source": [
    "from sklearn.cluster import AgglomerativeClustering as AC\n",
    "\n",
    "def scale_df(df,axis=0):\n",
    "    '''\n",
    "    A utility function to scale numerical values (z-scale) to have a mean of zero\n",
    "    and a unit variance.\n",
    "    '''\n",
    "    return (df - df.mean(axis=axis)) / df.std(axis=axis)\n",
    "\n",
    "def plot_hmap(df, ix=None, cmap='bwr'):\n",
    "    '''\n",
    "    A function to plot heatmaps that show temporal patterns\n",
    "    '''\n",
    "    if ix is None:\n",
    "        ix = np.arange(df.shape[0])\n",
    "    plt.imshow(df.iloc[ix,:], cmap=cmap)\n",
    "    plt.colorbar(fraction=0.03)\n",
    "    plt.yticks(np.arange(df.shape[0]), df.index[ix])\n",
    "    plt.xticks(np.arange(df.shape[1]))\n",
    "    plt.grid(False)\n",
    "    plt.show()\n",
    "    \n",
    "def scale_and_plot(df, ix = None):\n",
    "    '''\n",
    "    A wrapper function to calculate the scaled values within each row of df and plot_hmap\n",
    "    '''\n",
    "    df_marginal_scaled = scale_df(df.T).T\n",
    "    if ix is None:\n",
    "        ix = AC(4).fit(df_marginal_scaled).labels_.argsort() # a trick to make better heatmaps\n",
    "    cap = np.min([np.max(df_marginal_scaled.as_matrix()), np.abs(np.min(df_marginal_scaled.as_matrix()))])\n",
    "    df_marginal_scaled = np.clip(df_marginal_scaled, -1*cap, cap)\n",
    "    plot_hmap(df_marginal_scaled, ix=ix)\n",
    "    \n",
    "def normalize(df):\n",
    "    result = df.copy()\n",
    "    for feature_name in df.columns:\n",
    "        max_value = df[feature_name].max()\n",
    "        min_value = df[feature_name].min()\n",
    "        result[feature_name] = (df[feature_name] - min_value) / (max_value - min_value)\n",
    "    return result "
   ]
  },
  {
   "cell_type": "code",
   "execution_count": null,
   "metadata": {},
   "outputs": [],
   "source": [
    "plt.figure(figsize=(15,12))\n",
    "scale_and_plot(hour_by_crimetype)"
   ]
  },
  {
   "cell_type": "code",
   "execution_count": null,
   "metadata": {},
   "outputs": [],
   "source": [
    "hour_by_crimetype.head()"
   ]
  },
  {
   "cell_type": "code",
   "execution_count": null,
   "metadata": {},
   "outputs": [],
   "source": [
    "plt.figure(figsize=(15,12))\n",
    "scale_and_plot(hour_by_location)"
   ]
  },
  {
   "cell_type": "code",
   "execution_count": 26,
   "metadata": {},
   "outputs": [
    {
     "name": "stderr",
     "output_type": "stream",
     "text": [
      "C:\\Users\\plahoti\\AppData\\Local\\Continuum\\anaconda3\\lib\\site-packages\\ipykernel_launcher.py:30: FutureWarning: Method .as_matrix will be removed in a future version. Use .values instead.\n"
     ]
    },
    {
     "data": {
      "image/png": "[encoded data removed]",
      "text/plain": [
       "<Figure size 864x288 with 2 Axes>"
      ]
     },
     "metadata": {
      "needs_background": "light"
     },
     "output_type": "display_data"
    }
   ],
   "source": [
    "plt.figure(figsize=(12,4))\n",
    "scale_and_plot(hour_by_week)"
   ]
  }
 ],
 "metadata": {
  "kernelspec": {
   "display_name": "Python 3",
   "language": "python",
   "name": "python3"
  },
  "language_info": {
   "codemirror_mode": {
    "name": "ipython",
    "version": 3
   },
   "file_extension": ".py",
   "mimetype": "text/x-python",
   "name": "python",
   "nbconvert_exporter": "python",
   "pygments_lexer": "ipython3",
   "version": "3.7.3"
  }
 },
 "nbformat": 4,
 "nbformat_minor": 2
}
